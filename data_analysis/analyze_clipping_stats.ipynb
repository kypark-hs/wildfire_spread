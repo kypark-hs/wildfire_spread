{
 "cells": [
  {
   "cell_type": "markdown",
   "id": "be8eb108",
   "metadata": {},
   "source": [
    "# Parse & load the original '*.tfrecord' files"
   ]
  },
  {
   "cell_type": "code",
   "execution_count": 58,
   "id": "c828d754",
   "metadata": {},
   "outputs": [],
   "source": [
    "from parse_dataset import *\n",
    "import json\n",
    "import numpy as np\n",
    "import tensorflow as tf\n",
    "import yaml"
   ]
  },
  {
   "cell_type": "code",
   "execution_count": 59,
   "id": "ab737d20",
   "metadata": {},
   "outputs": [],
   "source": [
    "# '../config.yml', to be ignored via .gitignore, is assumed to exist in advance\n",
    "with open('../config.yml', 'r') as inf:\n",
    "    cfg_dict = yaml.safe_load(inf)\n",
    "\n",
    "tf_dataset = get_dataset(cfg_dict['file_pattern'], 64)"
   ]
  },
  {
   "cell_type": "code",
   "execution_count": 60,
   "id": "becd2c9a",
   "metadata": {},
   "outputs": [
    {
     "name": "stdout",
     "output_type": "stream",
     "text": [
      "* total # of training cases: 14979\n",
      "* type of each train case: <class 'dict'>\n",
      "* feature names in sorted order: ['FireMask', 'NDVI', 'PrevFireMask', 'elevation', 'erc', 'pdsi', 'population', 'pr', 'sph', 'th', 'tmmn', 'tmmx', 'vs']\n",
      "* feature config:\n",
      "------------------------------------------------------------\n",
      "        feature name       feature shape               dtype\n",
      "------------------------------------------------------------\n",
      "            FireMask            (64, 64)             float32\n",
      "                NDVI            (64, 64)             float32\n",
      "        PrevFireMask            (64, 64)             float32\n",
      "           elevation            (64, 64)             float32\n",
      "                 erc            (64, 64)             float32\n",
      "                pdsi            (64, 64)             float32\n",
      "          population            (64, 64)             float32\n",
      "                  pr            (64, 64)             float32\n",
      "                 sph            (64, 64)             float32\n",
      "                  th            (64, 64)             float32\n",
      "                tmmn            (64, 64)             float32\n",
      "                tmmx            (64, 64)             float32\n",
      "                  vs            (64, 64)             float32\n",
      "------------------------------------------------------------\n"
     ]
    }
   ],
   "source": [
    "train_cases = list(tf_dataset.as_numpy_iterator())\n",
    "num_train_cases = len(train_cases)\n",
    "feat_names = sorted(train_cases[0].keys())\n",
    "print('* total # of training cases: {}'.format(num_train_cases))\n",
    "print('* type of each train case: {}'.format(type(train_cases[0])))\n",
    "print('* feature names in sorted order: {}'.format(feat_names))\n",
    "print('* feature config:')\n",
    "print('------------------------------------------------------------')\n",
    "print('{:>20s}{:>20s}{:>20s}'.format('feature name', 'feature shape', 'dtype'))\n",
    "print('------------------------------------------------------------')\n",
    "for k, v in train_cases[0].items():\n",
    "    print('{:>20s}{:>20s}{:>20s}'.format(k, str(v.shape), str(v.dtype)))\n",
    "print('------------------------------------------------------------')"
   ]
  },
  {
   "cell_type": "markdown",
   "id": "570872ee",
   "metadata": {},
   "source": [
    "# Original authors' data stats"
   ]
  },
  {
   "cell_type": "code",
   "execution_count": 61,
   "id": "82c2ef4f",
   "metadata": {},
   "outputs": [],
   "source": [
    "# source: https://github.com/google-research/google-research/blob/master/simulation_research/next_day_wildfire_spread/data_export/dataset_demo.ipynb\n",
    "# Data statistics\n",
    "# For each variable, the statistics are ordered in the form:\n",
    "# (min_clip, max_clip, mean, std)\n",
    "DATA_STATS = {\n",
    "    # 0.1 percentile, 99.9 percentile\n",
    "    'elevation': (0.0, 3141.0, 657.3003, 649.0147),\n",
    "    # Pressure\n",
    "    # 0.1 percentile, 99.9 percentile\n",
    "    'pdsi': (-6.1298, 7.8760, -0.0053, 2.6823),\n",
    "    'NDVI': (-9821.0, 9996.0, 5157.625, 2466.6677),\n",
    "    # Precipitation in mm.\n",
    "    # Negative values make no sense, so min is set to 0.\n",
    "    # 0., 99.9 percentile\n",
    "    'pr': (0.0, 44.5304, 1.7398051, 4.4828),\n",
    "    # Specific humidity ranges from 0 to 100%.\n",
    "    'sph': (0., 1., 0.0071658953, 0.0042835088),\n",
    "    # Wind direction in degrees clockwise from north.\n",
    "    # Thus min set to 0 and max set to 360.\n",
    "    'th': (0., 360.0, 190.3298, 72.5985),\n",
    "    # Min/max temperature in Kelvin.\n",
    "    # -20 degree C, 99.9 percentile\n",
    "    'tmmn': (253.15, 298.9489, 281.08768, 8.9824),\n",
    "    # -20 degree C, 99.9 percentile\n",
    "    'tmmx': (253.15, 315.0923, 295.17383, 9.8155),\n",
    "    # Wind speed.\n",
    "    # Negative values do not make sense, given there is a wind direction.\n",
    "    # 0., 99.9 percentile\n",
    "    'vs': (0.0, 10.0243, 3.8501, 1.4110),\n",
    "    # NFDRS fire danger index energy release component expressed in BTU's per\n",
    "    # square foot.\n",
    "    # Negative values do not make sense. Thus min set to zero.\n",
    "    # 0., 99.9 percentile\n",
    "    'erc': (0.0, 106.2489, 37.3263, 20.8460),\n",
    "    # Population\n",
    "    # min, 99.9 percentile\n",
    "    'population': (0., 2534.0630, 25.5314, 154.7233),\n",
    "    # We don't want to normalize the FireMasks.\n",
    "    'PrevFireMask': (-1., 1., 0., 1.),\n",
    "    'FireMask': (-1., 1., 0., 1.)\n",
    "}"
   ]
  },
  {
   "cell_type": "markdown",
   "id": "89a322cf",
   "metadata": {},
   "source": [
    "# min/max/mean/std for each raw numeric feature data vs original authors'"
   ]
  },
  {
   "cell_type": "code",
   "execution_count": 62,
   "id": "6d83fddd",
   "metadata": {
    "scrolled": true
   },
   "outputs": [],
   "source": [
    "numeric_feat_names = [feat_name for feat_name in feat_names\n",
    "                      if feat_name not in ['PrevFireMask', 'FireMask']]\n",
    "feat_val = {}\n",
    "feat_min = {}\n",
    "feat_max = {}\n",
    "feat_mean = {}\n",
    "feat_std = {}\n",
    "\n",
    "for feat_name in numeric_feat_names:\n",
    "    feat_val[feat_name] = []\n",
    "    for idx, train_case in enumerate(train_cases):\n",
    "        feat_val[feat_name].extend(train_case[feat_name].reshape(-1))\n",
    "    feat_min[feat_name] = np.min(feat_val[feat_name])\n",
    "    feat_max[feat_name] = np.max(feat_val[feat_name])\n",
    "    feat_mean[feat_name] = np.mean(feat_val[feat_name])\n",
    "    feat_std[feat_name] = np.std(feat_val[feat_name])"
   ]
  },
  {
   "cell_type": "code",
   "execution_count": 63,
   "id": "e3695d16",
   "metadata": {},
   "outputs": [
    {
     "name": "stdout",
     "output_type": "stream",
     "text": [
      "# raw numeric feature data as of Dec/2022\n",
      "\n",
      "Feature                     min                 max                mean                 std\n",
      "-------------------------------------------------------------------------------------------\n",
      "NDVI                 -9567.0000           9966.0000           5350.6748           2185.2170\n",
      "elevation              -45.0000           4193.0000            896.5713            842.6105\n",
      "erc                  -1196.0886           2470.8823             53.4690             25.0980\n",
      "pdsi                  -125.7109             52.2690             -0.7729              2.4407\n",
      "population               0.0000          27103.6055             30.4603            214.2003\n",
      "pr                    -167.4483             56.2148              0.3234              1.5337\n",
      "sph                     -0.1290              0.0855              0.0065              0.0037\n",
      "th                 -505870.0625          37735.6289            146.6466           3435.0671\n",
      "tmmn                  -444.6930            716.6276            281.8520             18.4972\n",
      "tmmx                     0.0000           1229.8488            297.7165             19.4581\n",
      "vs                     -82.6531            103.2201              3.6279              1.3092\n",
      "\n",
      "# original authors'\n",
      "\n",
      "Feature                min_clip            max_clip                mean                 std\n",
      "-------------------------------------------------------------------------------------------\n",
      "NDVI                 -9821.0000           9996.0000           5157.6250           2466.6677\n",
      "elevation                0.0000           3141.0000            657.3003            649.0147\n",
      "erc                      0.0000            106.2489             37.3263             20.8460\n",
      "pdsi                    -6.1298              7.8760             -0.0053              2.6823\n",
      "population               0.0000           2534.0630             25.5314            154.7233\n",
      "pr                       0.0000             44.5304              1.7398              4.4828\n",
      "sph                      0.0000              1.0000              0.0072              0.0043\n",
      "th                       0.0000            360.0000            190.3298             72.5985\n",
      "tmmn                   253.1500            298.9489            281.0877              8.9824\n",
      "tmmx                   253.1500            315.0923            295.1738              9.8155\n",
      "vs                       0.0000             10.0243              3.8501              1.4110\n"
     ]
    }
   ],
   "source": [
    "col1_width = max([len(feat_name) for feat_name in feat_min]) + 1\n",
    "format_header = '{:<' + str(col1_width) + 's}' + '{:>20s}' * 4\n",
    "format_body = '{:<' + str(col1_width) + 's}' + '{:>20.4f}' * 4\n",
    "header = format_header.format('Feature', 'min', 'max', 'mean', 'std')\n",
    "\n",
    "print('# raw numeric feature data as of Dec/2022\\n')\n",
    "print(header)\n",
    "print('-' * len(header))\n",
    "for feat_name in sorted(feat_min.keys()):\n",
    "    print(format_body.format(feat_name,\n",
    "                             feat_min[feat_name], feat_max[feat_name],\n",
    "                             feat_mean[feat_name], feat_std[feat_name]))\n",
    "\n",
    "print('\\n# original authors\\'\\n')\n",
    "header = format_header.format('Feature', 'min_clip', 'max_clip', 'mean', 'std')\n",
    "print(header)\n",
    "print('-' * len(header))\n",
    "for feat_name in sorted(feat_min.keys()):\n",
    "    print(format_body.format(feat_name,\n",
    "                             DATA_STATS[feat_name][0], DATA_STATS[feat_name][1],\n",
    "                             DATA_STATS[feat_name][2], DATA_STATS[feat_name][3]))"
   ]
  },
  {
   "cell_type": "markdown",
   "id": "75cebb02",
   "metadata": {},
   "source": [
    "# min_clip/max_clip by numpy.percentile\n",
    "\n",
    "Recalculate min_clip/max_clip according to the original authors' logic, as the dataset seems to be different from that of the authors' paper.  \n",
    "Assume gaussian(normal) distribution for each numeric feature data."
   ]
  },
  {
   "cell_type": "code",
   "execution_count": 64,
   "id": "78f78c55",
   "metadata": {},
   "outputs": [],
   "source": [
    "# {feat_name: [min_clip, max_clip], ...}\n",
    "my_clips = {feat_name: [0.0, 0.0] for feat_name in numeric_feat_names}\n",
    "\n",
    "# elevation: 0.1 percentile, 99.9 percentile\n",
    "my_clips['elevation'][0] = np.percentile(feat_val['elevation'], 0.1, method='linear')#0.001)\n",
    "my_clips['elevation'][1] = np.percentile(feat_val['elevation'], 99.9, method='linear')#0.999)\n",
    "# pdsi: 0.1 percentile, 99.9 percentile\n",
    "my_clips['pdsi'][0] = np.percentile(feat_val['pdsi'], 0.1, method='linear')#0.001)\n",
    "my_clips['pdsi'][1] = np.percentile(feat_val['pdsi'], 99.9, method='linear')#0.999)\n",
    "# NDVI: NA(0.1 percentile, 99.9 percentile by default)\n",
    "my_clips['NDVI'][0] = np.percentile(feat_val['NDVI'], 0.1, method='linear')#0.001)\n",
    "my_clips['NDVI'][1] = np.percentile(feat_val['NDVI'], 99.9, method='linear')#0.999)\n",
    "# pr: Precipitation in mm. Negative values make no sense, so min is set to 0. 0., 99.9 percentile\n",
    "my_clips['pr'][0] = 0.0\n",
    "my_clips['pr'][1] = np.percentile(feat_val['pr'], 99.9, method='linear')#0.999)\n",
    "# sph: Specific humidity ranges from 0 to 100%.\n",
    "my_clips['sph'][0] = 0.0\n",
    "my_clips['sph'][1] = 1.0\n",
    "# th: Wind direction in degrees clockwise from north. Thus min set to 0 and max set to 360.\n",
    "my_clips['th'][0] = 0.0\n",
    "my_clips['th'][1] = 360.0\n",
    "# tmmn: min temperature in Kelvin. -20 degree C, 99.9 percentile\n",
    "my_clips['tmmn'][0] = 253.15\n",
    "my_clips['tmmn'][1] = np.percentile(feat_val['tmmn'], 99.9, method='linear')#0.999)\n",
    "# tmmx: max temperature in Kelvin. -20 degree C, 99.9 percentile\n",
    "my_clips['tmmx'][0] = 253.15\n",
    "my_clips['tmmx'][1] = np.percentile(feat_val['tmmx'], 99.9, method='linear')#0.999)\n",
    "# vs: Wind speed. Negative values do not make sense, given there is a wind direction. 0., 99.9 percentile\n",
    "my_clips['vs'][0] = 0.0\n",
    "my_clips['vs'][1] = np.percentile(feat_val['vs'], 99.9, method='linear')#0.999)\n",
    "# erc: NFDRS fire danger index energy release component expressed in BTU's per square foot.\n",
    "#      Negative values do not make sense. Thus min set to zero. 0., 99.9 percentile\n",
    "my_clips['erc'][0] = 0.0\n",
    "my_clips['erc'][1] = np.percentile(feat_val['erc'], 99.9, method='linear')#0.999)\n",
    "# population: Population. 0., 99.9 percentile\n",
    "my_clips['population'][0] = 0.0\n",
    "my_clips['population'][1] = np.percentile(feat_val['population'], 99.9, method='linear')#0.999)"
   ]
  },
  {
   "cell_type": "code",
   "execution_count": 65,
   "id": "92e5af03",
   "metadata": {},
   "outputs": [],
   "source": [
    "# my min_clip/max_clip using np.percentile vs original authors'"
   ]
  },
  {
   "cell_type": "code",
   "execution_count": 66,
   "id": "ad76d1d4",
   "metadata": {},
   "outputs": [],
   "source": [
    "# my mean/std using np.percentile vs original authors'"
   ]
  },
  {
   "cell_type": "markdown",
   "id": "9c19a77c",
   "metadata": {},
   "source": [
    "# min_clip/max_clip by scipy.stats.norm.ppf\n",
    "\n",
    "Assume no specific distribution for each numeric feature data."
   ]
  },
  {
   "cell_type": "code",
   "execution_count": 67,
   "id": "8fe17abc",
   "metadata": {},
   "outputs": [],
   "source": [
    "# my min_clip/max_clip using scipy.stats.norm.ppf vs original authors'"
   ]
  },
  {
   "cell_type": "code",
   "execution_count": 68,
   "id": "1aad8c3e",
   "metadata": {},
   "outputs": [],
   "source": [
    "# my mean/std using scipy.stats.norm.ppf vs original authors'"
   ]
  }
 ],
 "metadata": {
  "kernelspec": {
   "display_name": "Python 3 (ipykernel)",
   "language": "python",
   "name": "python3"
  },
  "language_info": {
   "codemirror_mode": {
    "name": "ipython",
    "version": 3
   },
   "file_extension": ".py",
   "mimetype": "text/x-python",
   "name": "python",
   "nbconvert_exporter": "python",
   "pygments_lexer": "ipython3",
   "version": "3.10.0"
  }
 },
 "nbformat": 4,
 "nbformat_minor": 5
}
