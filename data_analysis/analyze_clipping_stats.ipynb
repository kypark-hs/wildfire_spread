{
 "cells": [
  {
   "cell_type": "markdown",
   "id": "8337486b",
   "metadata": {},
   "source": [
    "# Parse & load the original '*.tfrecord' training dataset files"
   ]
  },
  {
   "cell_type": "code",
   "execution_count": 1,
   "id": "3217618f",
   "metadata": {},
   "outputs": [],
   "source": [
    "from parse_dataset import *\n",
    "import json\n",
    "import numpy as np\n",
    "import tensorflow as tf\n",
    "import yaml"
   ]
  },
  {
   "cell_type": "code",
   "execution_count": 2,
   "id": "7fcc8799",
   "metadata": {},
   "outputs": [
    {
     "name": "stdout",
     "output_type": "stream",
     "text": [
      "Metal device set to: Apple M2\n",
      "WARNING:tensorflow:From /opt/homebrew/Caskroom/miniforge/base/envs/wildfire_spread/lib/python3.10/site-packages/tensorflow/python/autograph/pyct/static_analysis/liveness.py:83: Analyzer.lamba_check (from tensorflow.python.autograph.pyct.static_analysis.liveness) is deprecated and will be removed after 2023-09-23.\n",
      "Instructions for updating:\n",
      "Lambda fuctions will be no more assumed to be used in the statement where they are used, or at least in the same block. https://github.com/tensorflow/tensorflow/issues/56089\n"
     ]
    },
    {
     "name": "stderr",
     "output_type": "stream",
     "text": [
      "2022-12-23 11:23:07.220296: I tensorflow/core/common_runtime/pluggable_device/pluggable_device_factory.cc:306] Could not identify NUMA node of platform GPU ID 0, defaulting to 0. Your kernel may not have been built with NUMA support.\n",
      "2022-12-23 11:23:07.220312: I tensorflow/core/common_runtime/pluggable_device/pluggable_device_factory.cc:272] Created TensorFlow device (/job:localhost/replica:0/task:0/device:GPU:0 with 0 MB memory) -> physical PluggableDevice (device: 0, name: METAL, pci bus id: <undefined>)\n"
     ]
    }
   ],
   "source": [
    "# '../config.yml', to be ignored via .gitignore, is assumed to exist in advance\n",
    "with open('../config.yml', 'r') as inf:\n",
    "    cfg_dict = yaml.safe_load(inf)\n",
    "\n",
    "tf_dataset = get_dataset(cfg_dict['file_pattern'], 64)"
   ]
  },
  {
   "cell_type": "code",
   "execution_count": 3,
   "id": "c7d8f027",
   "metadata": {},
   "outputs": [
    {
     "name": "stderr",
     "output_type": "stream",
     "text": [
      "2022-12-23 11:23:07.307031: W tensorflow/tsl/platform/profile_utils/cpu_utils.cc:128] Failed to get CPU frequency: 0 Hz\n"
     ]
    },
    {
     "name": "stdout",
     "output_type": "stream",
     "text": [
      "* total # of training cases: 14979\n",
      "* type of each train case: <class 'dict'>\n",
      "* feature names in sorted order: ['FireMask', 'NDVI', 'PrevFireMask', 'elevation', 'erc', 'pdsi', 'population', 'pr', 'sph', 'th', 'tmmn', 'tmmx', 'vs']\n",
      "* feature config:\n",
      "------------------------------------------------------------\n",
      "        feature name       feature shape               dtype\n",
      "------------------------------------------------------------\n",
      "            FireMask            (64, 64)             float32\n",
      "                NDVI            (64, 64)             float32\n",
      "        PrevFireMask            (64, 64)             float32\n",
      "           elevation            (64, 64)             float32\n",
      "                 erc            (64, 64)             float32\n",
      "                pdsi            (64, 64)             float32\n",
      "          population            (64, 64)             float32\n",
      "                  pr            (64, 64)             float32\n",
      "                 sph            (64, 64)             float32\n",
      "                  th            (64, 64)             float32\n",
      "                tmmn            (64, 64)             float32\n",
      "                tmmx            (64, 64)             float32\n",
      "                  vs            (64, 64)             float32\n",
      "------------------------------------------------------------\n"
     ]
    }
   ],
   "source": [
    "train_cases = list(tf_dataset.as_numpy_iterator())\n",
    "num_train_cases = len(train_cases)\n",
    "feat_names = sorted(train_cases[0].keys())\n",
    "print('* total # of training cases: {}'.format(num_train_cases))\n",
    "print('* type of each train case: {}'.format(type(train_cases[0])))\n",
    "print('* feature names in sorted order: {}'.format(feat_names))\n",
    "print('* feature config:')\n",
    "print('------------------------------------------------------------')\n",
    "print('{:>20s}{:>20s}{:>20s}'.format('feature name', 'feature shape', 'dtype'))\n",
    "print('------------------------------------------------------------')\n",
    "for k, v in train_cases[0].items():\n",
    "    print('{:>20s}{:>20s}{:>20s}'.format(k, str(v.shape), str(v.dtype)))\n",
    "print('------------------------------------------------------------')"
   ]
  },
  {
   "cell_type": "markdown",
   "id": "583d2626",
   "metadata": {},
   "source": [
    "# Original authors' data stats"
   ]
  },
  {
   "cell_type": "code",
   "execution_count": 4,
   "id": "75cf79ba",
   "metadata": {},
   "outputs": [],
   "source": [
    "# source: https://github.com/google-research/google-research/blob/master/simulation_research/next_day_wildfire_spread/data_export/dataset_demo.ipynb\n",
    "# Data statistics\n",
    "# For each variable, the statistics are ordered in the form:\n",
    "# (min_clip, max_clip, mean, std)\n",
    "DATA_STATS = {\n",
    "    # 0.1 percentile, 99.9 percentile\n",
    "    'elevation': (0.0, 3141.0, 657.3003, 649.0147),\n",
    "    # Pressure\n",
    "    # 0.1 percentile, 99.9 percentile\n",
    "    'pdsi': (-6.1298, 7.8760, -0.0053, 2.6823),\n",
    "    'NDVI': (-9821.0, 9996.0, 5157.625, 2466.6677),\n",
    "    # Precipitation in mm.\n",
    "    # Negative values make no sense, so min is set to 0.\n",
    "    # 0., 99.9 percentile\n",
    "    'pr': (0.0, 44.5304, 1.7398051, 4.4828),\n",
    "    # Specific humidity ranges from 0 to 100%.\n",
    "    'sph': (0., 1., 0.0071658953, 0.0042835088),\n",
    "    # Wind direction in degrees clockwise from north.\n",
    "    # Thus min set to 0 and max set to 360.\n",
    "    'th': (0., 360.0, 190.3298, 72.5985),\n",
    "    # Min/max temperature in Kelvin.\n",
    "    # -20 degree C, 99.9 percentile\n",
    "    'tmmn': (253.15, 298.9489, 281.08768, 8.9824),\n",
    "    # -20 degree C, 99.9 percentile\n",
    "    'tmmx': (253.15, 315.0923, 295.17383, 9.8155),\n",
    "    # Wind speed.\n",
    "    # Negative values do not make sense, given there is a wind direction.\n",
    "    # 0., 99.9 percentile\n",
    "    'vs': (0.0, 10.0243, 3.8501, 1.4110),\n",
    "    # NFDRS fire danger index energy release component expressed in BTU's per\n",
    "    # square foot.\n",
    "    # Negative values do not make sense. Thus min set to zero.\n",
    "    # 0., 99.9 percentile\n",
    "    'erc': (0.0, 106.2489, 37.3263, 20.8460),\n",
    "    # Population\n",
    "    # min, 99.9 percentile\n",
    "    'population': (0., 2534.0630, 25.5314, 154.7233),\n",
    "    # We don't want to normalize the FireMasks.\n",
    "    'PrevFireMask': (-1., 1., 0., 1.),\n",
    "    'FireMask': (-1., 1., 0., 1.)\n",
    "}"
   ]
  },
  {
   "cell_type": "markdown",
   "id": "61f5b593",
   "metadata": {},
   "source": [
    "# min/max/mean/std for each raw numeric feature data vs original authors'"
   ]
  },
  {
   "cell_type": "code",
   "execution_count": 5,
   "id": "a3605a98",
   "metadata": {
    "scrolled": true
   },
   "outputs": [],
   "source": [
    "numeric_feat_names = [feat_name for feat_name in feat_names\n",
    "                      if feat_name not in ['PrevFireMask', 'FireMask']]\n",
    "feat_val = {}\n",
    "feat_min = {}\n",
    "feat_max = {}\n",
    "feat_mean = {}\n",
    "feat_std = {}\n",
    "\n",
    "for feat_name in numeric_feat_names:\n",
    "    feat_val[feat_name] = []\n",
    "    for idx, train_case in enumerate(train_cases):\n",
    "        feat_val[feat_name].extend(train_case[feat_name].reshape(-1))\n",
    "    feat_min[feat_name] = np.min(feat_val[feat_name])\n",
    "    feat_max[feat_name] = np.max(feat_val[feat_name])\n",
    "    feat_mean[feat_name] = np.mean(feat_val[feat_name])\n",
    "    feat_std[feat_name] = np.std(feat_val[feat_name])"
   ]
  },
  {
   "cell_type": "code",
   "execution_count": 6,
   "id": "c9b724db",
   "metadata": {},
   "outputs": [
    {
     "name": "stdout",
     "output_type": "stream",
     "text": [
      "# raw numeric feature data as of Dec/2022\n",
      "\n",
      "Feature                     min                 max                mean                 std\n",
      "-------------------------------------------------------------------------------------------\n",
      "NDVI                 -9567.0000           9966.0000           5350.6753           2185.2190\n",
      "elevation              -45.0000           4193.0000            896.5699            842.6098\n",
      "erc                  -1196.0886           2470.8823             53.4690             25.0980\n",
      "pdsi                  -125.7109             52.2690             -0.7729              2.4407\n",
      "population               0.0000          27103.6055             30.4603            214.2000\n",
      "pr                    -167.4483             56.2148              0.3234              1.5337\n",
      "sph                     -0.1290              0.0855              0.0065              0.0037\n",
      "th                 -505870.0625          37735.6289            146.6465           3435.0720\n",
      "tmmn                  -444.6930            716.6276            281.8522             18.4972\n",
      "tmmx                     0.0000           1229.8488            297.7172             19.4581\n",
      "vs                     -82.6531            103.2201              3.6278              1.3092\n",
      "\n",
      "# original authors'\n",
      "\n",
      "Feature                min_clip            max_clip                mean                 std\n",
      "-------------------------------------------------------------------------------------------\n",
      "NDVI                 -9821.0000           9996.0000           5157.6250           2466.6677\n",
      "elevation                0.0000           3141.0000            657.3003            649.0147\n",
      "erc                      0.0000            106.2489             37.3263             20.8460\n",
      "pdsi                    -6.1298              7.8760             -0.0053              2.6823\n",
      "population               0.0000           2534.0630             25.5314            154.7233\n",
      "pr                       0.0000             44.5304              1.7398              4.4828\n",
      "sph                      0.0000              1.0000              0.0072              0.0043\n",
      "th                       0.0000            360.0000            190.3298             72.5985\n",
      "tmmn                   253.1500            298.9489            281.0877              8.9824\n",
      "tmmx                   253.1500            315.0923            295.1738              9.8155\n",
      "vs                       0.0000             10.0243              3.8501              1.4110\n"
     ]
    }
   ],
   "source": [
    "col1_width = max([len(feat_name) for feat_name in feat_min]) + 1\n",
    "format_header = '{:<' + str(col1_width) + 's}' + '{:>20s}' * 4\n",
    "format_body = '{:<' + str(col1_width) + 's}' + '{:>20.4f}' * 4\n",
    "header = format_header.format('Feature', 'min', 'max', 'mean', 'std')\n",
    "\n",
    "print('# raw numeric feature data as of Dec/2022\\n')\n",
    "print(header)\n",
    "print('-' * len(header))\n",
    "for feat_name in sorted(feat_min.keys()):\n",
    "    print(format_body.format(feat_name,\n",
    "                             feat_min[feat_name], feat_max[feat_name],\n",
    "                             feat_mean[feat_name], feat_std[feat_name]))\n",
    "\n",
    "print('\\n# original authors\\'\\n')\n",
    "header = format_header.format('Feature', 'min_clip', 'max_clip', 'mean', 'std')\n",
    "print(header)\n",
    "print('-' * len(header))\n",
    "for feat_name in sorted(feat_min.keys()):\n",
    "    print(format_body.format(feat_name,\n",
    "                             DATA_STATS[feat_name][0], DATA_STATS[feat_name][1],\n",
    "                             DATA_STATS[feat_name][2], DATA_STATS[feat_name][3]))"
   ]
  },
  {
   "cell_type": "markdown",
   "id": "1fdd244c",
   "metadata": {},
   "source": [
    "# comparison using min_clip/max_clip by numpy.percentile\n",
    "\n",
    "Recalculate min_clip/max_clip according to the original authors' logic, as the dataset seems to be different from that of the authors' paper.  \n",
    "Assume gaussian(normal) distribution for each numeric feature data."
   ]
  },
  {
   "cell_type": "code",
   "execution_count": 7,
   "id": "7ea62d95",
   "metadata": {},
   "outputs": [],
   "source": [
    "# computing my min_clip/max_clip using np.percentile\n",
    "\n",
    "# {feat_name: [min_clip, max_clip], ...}\n",
    "my_clips = {feat_name: [0.0, 0.0] for feat_name in numeric_feat_names}\n",
    "\n",
    "# elevation: 0.1 percentile, 99.9 percentile\n",
    "my_clips['elevation'][0] = np.percentile(feat_val['elevation'], 0.1, method='linear')#0.001)\n",
    "my_clips['elevation'][1] = np.percentile(feat_val['elevation'], 99.9, method='linear')#0.999)\n",
    "# pdsi: 0.1 percentile, 99.9 percentile\n",
    "my_clips['pdsi'][0] = np.percentile(feat_val['pdsi'], 0.1, method='linear')#0.001)\n",
    "my_clips['pdsi'][1] = np.percentile(feat_val['pdsi'], 99.9, method='linear')#0.999)\n",
    "# NDVI: NA(0.1 percentile, 99.9 percentile by default)\n",
    "my_clips['NDVI'][0] = np.percentile(feat_val['NDVI'], 0.1, method='linear')#0.001)\n",
    "my_clips['NDVI'][1] = np.percentile(feat_val['NDVI'], 99.9, method='linear')#0.999)\n",
    "# pr: Precipitation in mm. Negative values make no sense, so min is set to 0. 0., 99.9 percentile\n",
    "my_clips['pr'][0] = 0.0\n",
    "my_clips['pr'][1] = np.percentile(feat_val['pr'], 99.9, method='linear')#0.999)\n",
    "# sph: Specific humidity ranges from 0 to 100%.\n",
    "my_clips['sph'][0] = 0.0\n",
    "my_clips['sph'][1] = 1.0\n",
    "# th: Wind direction in degrees clockwise from north. Thus min set to 0 and max set to 360.\n",
    "my_clips['th'][0] = 0.0\n",
    "my_clips['th'][1] = 360.0\n",
    "# tmmn: min temperature in Kelvin. -20 degree C, 99.9 percentile\n",
    "my_clips['tmmn'][0] = 253.15\n",
    "my_clips['tmmn'][1] = np.percentile(feat_val['tmmn'], 99.9, method='linear')#0.999)\n",
    "# tmmx: max temperature in Kelvin. -20 degree C, 99.9 percentile\n",
    "my_clips['tmmx'][0] = 253.15\n",
    "my_clips['tmmx'][1] = np.percentile(feat_val['tmmx'], 99.9, method='linear')#0.999)\n",
    "# vs: Wind speed. Negative values do not make sense, given there is a wind direction. 0., 99.9 percentile\n",
    "my_clips['vs'][0] = 0.0\n",
    "my_clips['vs'][1] = np.percentile(feat_val['vs'], 99.9, method='linear')#0.999)\n",
    "# erc: NFDRS fire danger index energy release component expressed in BTU's per square foot.\n",
    "#      Negative values do not make sense. Thus min set to zero. 0., 99.9 percentile\n",
    "my_clips['erc'][0] = 0.0\n",
    "my_clips['erc'][1] = np.percentile(feat_val['erc'], 99.9, method='linear')#0.999)\n",
    "# population: Population. 0., 99.9 percentile\n",
    "my_clips['population'][0] = 0.0\n",
    "my_clips['population'][1] = np.percentile(feat_val['population'], 99.9, method='linear')#0.999)"
   ]
  },
  {
   "cell_type": "code",
   "execution_count": 8,
   "id": "97c77636",
   "metadata": {},
   "outputs": [
    {
     "name": "stdout",
     "output_type": "stream",
     "text": [
      "Feature Name   Stat             Original                Mine       Original/Mine       Mine/Original\n",
      "----------------------------------------------------------------------------------------------------\n",
      "NDVI           mean            5157.6250           5351.7942              0.9637              1.0376\n",
      "               std             2466.6677           2179.2824              1.1319              0.8835\n",
      "elevation      mean             657.3003            896.4425              0.7332              1.3638\n",
      "               std              649.0147            842.1867              0.7706              1.2976\n",
      "erc            mean              37.3263             53.4684              0.6981              1.4325\n",
      "               std               20.8460             25.0839              0.8311              1.2033\n",
      "pdsi           mean              -0.0053             -0.7731              0.0069            145.8595\n",
      "               std                2.6823              2.4374              1.1005              0.9087\n",
      "population     mean              25.5314             29.3566              0.8697              1.1498\n",
      "               std              154.7233            190.0256              0.8142              1.2282\n",
      "pr             mean               1.7398              0.3189              5.4565              0.1833\n",
      "               std                4.4828              1.4393              3.1147              0.3211\n",
      "sph            mean               0.0072              0.0065              1.0980              0.9108\n",
      "               std                0.0043              0.0037              1.1467              0.8720\n",
      "th             mean             190.3298            199.4255              0.9544              1.0478\n",
      "               std               72.5985             71.5846              1.0142              0.9860\n",
      "tmmn           mean             281.0877            282.7729              0.9940              1.0060\n",
      "               std                8.9824              7.4226              1.2101              0.8263\n",
      "tmmx           mean             295.1738            298.6374              0.9884              1.0117\n",
      "               std                9.8155              7.8952              1.2432              0.8044\n",
      "vs             mean               3.8501              3.6270              1.0615              0.9421\n",
      "               std                1.4110              1.3026              1.0832              0.9232\n"
     ]
    }
   ],
   "source": [
    "# my mean/std using np.percentile vs original authors'\n",
    "\n",
    "# {feat_name: [mean, std], ...}\n",
    "mean_stds = {feat_name: [0.0, 0.0] for feat_name in numeric_feat_names}\n",
    "head = '{:<15s}{:<5s}{:>20s}{:>20s}{:>20s}{:>20s}'.format(\n",
    "    'Feature Name', 'Stat', 'Original', 'Mine', 'Original/Mine', 'Mine/Original')\n",
    "print(head)\n",
    "print('-' * len(head))\n",
    "for feat_name in mean_stds:\n",
    "    a = [val if val >= my_clips[feat_name][0] else my_clips[feat_name][0]\n",
    "         for val in feat_val[feat_name]]\n",
    "    a = [val if val <= my_clips[feat_name][1] else my_clips[feat_name][1]\n",
    "         for val in a]\n",
    "    mean_stds[feat_name][0] = np.mean(a)\n",
    "    mean_stds[feat_name][1] = np.std(a)\n",
    "    print('{:<15s}mean {:>20.4f}{:>20.4f}{:>20.4f}{:>20.4f}'.format(\n",
    "        feat_name, DATA_STATS[feat_name][2], mean_stds[feat_name][0],\n",
    "        DATA_STATS[feat_name][2]/mean_stds[feat_name][0],\n",
    "        mean_stds[feat_name][0]/DATA_STATS[feat_name][2]))\n",
    "    print('{:<15s}std  {:>20.4f}{:>20.4f}{:>20.4f}{:>20.4f}'.format(\n",
    "        '', DATA_STATS[feat_name][3], mean_stds[feat_name][1],\n",
    "        DATA_STATS[feat_name][3]/mean_stds[feat_name][1],\n",
    "        mean_stds[feat_name][1]/DATA_STATS[feat_name][3]))"
   ]
  },
  {
   "cell_type": "markdown",
   "id": "90df22ef",
   "metadata": {},
   "source": [
    "# comparison using min_clip/max_clip by scipy.stats.norm.ppf\n",
    "\n",
    "Assume no specific distribution for each numeric feature data."
   ]
  },
  {
   "cell_type": "code",
   "execution_count": 9,
   "id": "0c06740d",
   "metadata": {},
   "outputs": [],
   "source": [
    "# computing my min_clip/max_clip using scipy.stats.norm.ppf\n",
    "\n",
    "from scipy.stats import norm\n",
    "\n",
    "# {feat_name: [min_clip, max_clip], ...}\n",
    "my_clips = {feat_name: [0.0, 0.0] for feat_name in numeric_feat_names}\n",
    "\n",
    "# elevation: 0.1 percentile, 99.9 percentile\n",
    "my_clips['elevation'][0] = feat_mean['elevation'] +\\\n",
    "    norm.ppf(0.001, loc=feat_mean['elevation'], scale=feat_std['elevation']) * feat_std['elevation']\n",
    "my_clips['elevation'][1] = feat_mean['elevation'] +\\\n",
    "    norm.ppf(0.999, loc=feat_mean['elevation'], scale=feat_std['elevation']) * feat_std['elevation']\n",
    "# pdsi: 0.1 percentile, 99.9 percentile\n",
    "my_clips['pdsi'][0] = feat_mean['pdsi'] +\\\n",
    "    norm.ppf(0.001, loc=feat_mean['pdsi'], scale=feat_std['pdsi']) * feat_std['pdsi']\n",
    "my_clips['pdsi'][1] = feat_mean['pdsi'] +\\\n",
    "    norm.ppf(0.999, loc=feat_mean['pdsi'], scale=feat_std['pdsi']) * feat_std['pdsi']\n",
    "# NDVI: NA(0.1 percentile, 99.9 percentile by default)\n",
    "my_clips['NDVI'][0] = feat_mean['NDVI'] +\\\n",
    "    norm.ppf(0.001, loc=feat_mean['NDVI'], scale=feat_std['NDVI']) * feat_std['NDVI']\n",
    "my_clips['NDVI'][1] = feat_mean['NDVI'] +\\\n",
    "    norm.ppf(0.999, loc=feat_mean['NDVI'], scale=feat_std['NDVI']) * feat_std['NDVI']\n",
    "# pr: Precipitation in mm. Negative values make no sense, so min is set to 0. 0., 99.9 percentile\n",
    "my_clips['pr'][0] = 0.0\n",
    "my_clips['pr'][1] = feat_mean['pr'] +\\\n",
    "    norm.ppf(0.999, loc=feat_mean['pr'], scale=feat_std['pr']) * feat_std['pr']\n",
    "# sph: Specific humidity ranges from 0 to 100%.\n",
    "my_clips['sph'][0] = 0.0\n",
    "my_clips['sph'][1] = 1.0\n",
    "# th: Wind direction in degrees clockwise from north. Thus min set to 0 and max set to 360.\n",
    "my_clips['th'][0] = 0.0\n",
    "my_clips['th'][1] = 360.0\n",
    "# tmmn: min temperature in Kelvin. -20 degree C, 99.9 percentile\n",
    "my_clips['tmmn'][0] = 253.15\n",
    "my_clips['tmmn'][1] = feat_mean['tmmn'] +\\\n",
    "    norm.ppf(0.999, loc=feat_mean['tmmn'], scale=feat_std['tmmn']) * feat_std['tmmn']\n",
    "# tmmx: max temperature in Kelvin. -20 degree C, 99.9 percentile\n",
    "my_clips['tmmx'][0] = 253.15\n",
    "my_clips['tmmx'][1] = feat_mean['tmmx'] +\\\n",
    "    norm.ppf(0.999, loc=feat_mean['tmmx'], scale=feat_std['tmmx']) * feat_std['tmmx']\n",
    "# vs: Wind speed. Negative values do not make sense, given there is a wind direction. 0., 99.9 percentile\n",
    "my_clips['vs'][0] = 0.0\n",
    "my_clips['vs'][1] = feat_mean['vs'] +\\\n",
    "    norm.ppf(0.999, loc=feat_mean['vs'], scale=feat_std['vs']) * feat_std['vs']\n",
    "# erc: NFDRS fire danger index energy release component expressed in BTU's per square foot.\n",
    "#      Negative values do not make sense. Thus min set to zero. 0., 99.9 percentile\n",
    "my_clips['erc'][0] = 0.0\n",
    "my_clips['erc'][1] = feat_mean['erc'] +\\\n",
    "    norm.ppf(0.999, loc=feat_mean['erc'], scale=feat_std['erc']) * feat_std['erc']\n",
    "# population: Population. 0., 99.9 percentile\n",
    "my_clips['population'][0] = 0.0\n",
    "my_clips['population'][1] = feat_mean['population'] +\\\n",
    "    norm.ppf(0.999, loc=feat_mean['population'], scale=feat_std['population']) * feat_std['population']"
   ]
  },
  {
   "cell_type": "code",
   "execution_count": 10,
   "id": "55c26800",
   "metadata": {},
   "outputs": [
    {
     "name": "stdout",
     "output_type": "stream",
     "text": [
      "Feature Name   Stat             Original                Mine       Original/Mine       Mine/Original\n",
      "----------------------------------------------------------------------------------------------------\n",
      "NDVI           mean            5157.6250           5350.6753              0.9639              1.0374\n",
      "               std             2466.6677           2185.2190              1.1288              0.8859\n",
      "elevation      mean             657.3003            896.5699              0.7331              1.3640\n",
      "               std              649.0147            842.6098              0.7702              1.2983\n",
      "erc            mean              37.3263             53.4698              0.6981              1.4325\n",
      "               std               20.8460             25.0904              0.8308              1.2036\n",
      "pdsi           mean              -0.0053             -0.7729              0.0069            145.8245\n",
      "               std                2.6823              2.4403              1.0992              0.9098\n",
      "population     mean              25.5314             30.4603              0.8382              1.1931\n",
      "               std              154.7233            214.2000              0.7223              1.3844\n",
      "pr             mean               1.7398              0.2809              6.1940              0.1614\n",
      "               std                4.4828              1.0973              4.0853              0.2448\n",
      "sph            mean               0.0072              0.0065              1.0980              0.9108\n",
      "               std                0.0043              0.0037              1.1467              0.8720\n",
      "th             mean             190.3298            199.4255              0.9544              1.0478\n",
      "               std               72.5985             71.5846              1.0142              0.9860\n",
      "tmmn           mean             281.0877            282.7736              0.9940              1.0060\n",
      "               std                8.9824              7.4245              1.2098              0.8266\n",
      "tmmx           mean             295.1738            298.6380              0.9884              1.0117\n",
      "               std                9.8155              7.8987              1.2427              0.8047\n",
      "vs             mean               3.8501              3.6278              1.0613              0.9423\n",
      "               std                1.4110              1.3069              1.0797              0.9262\n"
     ]
    }
   ],
   "source": [
    "# my mean/std using scipy.stats.norm.ppf vs original authors'\n",
    "\n",
    "# {feat_name: [mean, std], ...}\n",
    "mean_stds = {feat_name: [0.0, 0.0] for feat_name in numeric_feat_names}\n",
    "head = '{:<15s}{:<5s}{:>20s}{:>20s}{:>20s}{:>20s}'.format(\n",
    "    'Feature Name', 'Stat', 'Original', 'Mine', 'Original/Mine', 'Mine/Original')\n",
    "print(head)\n",
    "print('-' * len(head))\n",
    "for feat_name in mean_stds:\n",
    "    a = [val if val >= my_clips[feat_name][0] else my_clips[feat_name][0]\n",
    "         for val in feat_val[feat_name]]\n",
    "    a = [val if val <= my_clips[feat_name][1] else my_clips[feat_name][1]\n",
    "         for val in a]\n",
    "    mean_stds[feat_name][0] = np.mean(a)\n",
    "    mean_stds[feat_name][1] = np.std(a)\n",
    "    print('{:<15s}mean {:>20.4f}{:>20.4f}{:>20.4f}{:>20.4f}'.format(\n",
    "        feat_name, DATA_STATS[feat_name][2], mean_stds[feat_name][0],\n",
    "        DATA_STATS[feat_name][2]/mean_stds[feat_name][0],\n",
    "        mean_stds[feat_name][0]/DATA_STATS[feat_name][2]))\n",
    "    print('{:<15s}std  {:>20.4f}{:>20.4f}{:>20.4f}{:>20.4f}'.format(\n",
    "        '', DATA_STATS[feat_name][3], mean_stds[feat_name][1],\n",
    "        DATA_STATS[feat_name][3]/mean_stds[feat_name][1],\n",
    "        mean_stds[feat_name][1]/DATA_STATS[feat_name][3]))"
   ]
  },
  {
   "cell_type": "markdown",
   "id": "b53257cc",
   "metadata": {},
   "source": [
    "# comparison using min_clip/max_clip by original authors' DATA_STATS\n",
    "\n",
    "Comparison between DATA_STATS by the original authors' and mine using DATA_STATS's min_clip/max_clip on the Kaggle raw dataset as of Dec/2022"
   ]
  },
  {
   "cell_type": "code",
   "execution_count": 11,
   "id": "2621feaf",
   "metadata": {
    "scrolled": false
   },
   "outputs": [
    {
     "name": "stdout",
     "output_type": "stream",
     "text": [
      "Feature Name   Stat             Original                Mine       Original/Mine       Mine/Original\n",
      "----------------------------------------------------------------------------------------------------\n",
      "NDVI           mean            5157.6250           5350.6753              0.9639              1.0374\n",
      "               std             2466.6677           2185.2190              1.1288              0.8859\n",
      "elevation      mean             657.3003            895.2701              0.7342              1.3620\n",
      "               std              649.0147            838.8517              0.7737              1.2925\n",
      "erc            mean              37.3263             53.4582              0.6982              1.4322\n",
      "               std               20.8460             25.0620              0.8318              1.2022\n",
      "pdsi           mean              -0.0053             -0.7726              0.0069            145.7800\n",
      "               std                2.6823              2.4392              1.0997              0.9094\n",
      "population     mean              25.5314             28.8423              0.8852              1.1297\n",
      "               std              154.7233            182.6005              0.8473              1.1802\n",
      "pr             mean               1.7398              0.3246              5.3605              0.1866\n",
      "               std                4.4828              1.5322              2.9257              0.3418\n",
      "sph            mean               0.0072              0.0065              1.0980              0.9108\n",
      "               std                0.0043              0.0037              1.1467              0.8720\n",
      "th             mean             190.3298            199.4255              0.9544              1.0478\n",
      "               std               72.5985             71.5846              1.0142              0.9860\n",
      "tmmn           mean             281.0877            282.7718              0.9940              1.0060\n",
      "               std                8.9824              7.4203              1.2105              0.8261\n",
      "tmmx           mean             295.1738            298.6333              0.9884              1.0117\n",
      "               std                9.8155              7.8863              1.2446              0.8035\n",
      "vs             mean               3.8501              3.6273              1.0614              0.9421\n",
      "               std                1.4110              1.3038              1.0822              0.9240\n"
     ]
    }
   ],
   "source": [
    "# my mean/std using DATA_STATS's min_clip/max_clip vs original authors'\n",
    "\n",
    "# {feat_name: [mean, std], ...}\n",
    "mean_stds = {feat_name: [0.0, 0.0] for feat_name in numeric_feat_names}\n",
    "head = '{:<15s}{:<5s}{:>20s}{:>20s}{:>20s}{:>20s}'.format(\n",
    "    'Feature Name', 'Stat', 'Original', 'Mine', 'Original/Mine', 'Mine/Original')\n",
    "print(head)\n",
    "print('-' * len(head))\n",
    "for feat_name in mean_stds:\n",
    "    a = [val if val >= DATA_STATS[feat_name][0] else DATA_STATS[feat_name][0]\n",
    "         for val in feat_val[feat_name]]\n",
    "    a = [val if val <= DATA_STATS[feat_name][1] else DATA_STATS[feat_name][1]\n",
    "         for val in a]\n",
    "    mean_stds[feat_name][0] = np.mean(a)\n",
    "    mean_stds[feat_name][1] = np.std(a)\n",
    "    print('{:<15s}mean {:>20.4f}{:>20.4f}{:>20.4f}{:>20.4f}'.format(\n",
    "        feat_name, DATA_STATS[feat_name][2], mean_stds[feat_name][0],\n",
    "        DATA_STATS[feat_name][2]/mean_stds[feat_name][0],\n",
    "        mean_stds[feat_name][0]/DATA_STATS[feat_name][2]))\n",
    "    print('{:<15s}std  {:>20.4f}{:>20.4f}{:>20.4f}{:>20.4f}'.format(\n",
    "        '', DATA_STATS[feat_name][3], mean_stds[feat_name][1],\n",
    "        DATA_STATS[feat_name][3]/mean_stds[feat_name][1],\n",
    "        mean_stds[feat_name][1]/DATA_STATS[feat_name][3]))"
   ]
  }
 ],
 "metadata": {
  "kernelspec": {
   "display_name": "Python 3 (ipykernel)",
   "language": "python",
   "name": "python3"
  },
  "language_info": {
   "codemirror_mode": {
    "name": "ipython",
    "version": 3
   },
   "file_extension": ".py",
   "mimetype": "text/x-python",
   "name": "python",
   "nbconvert_exporter": "python",
   "pygments_lexer": "ipython3",
   "version": "3.10.0"
  }
 },
 "nbformat": 4,
 "nbformat_minor": 5
}
