{
 "cells": [
  {
   "cell_type": "code",
   "execution_count": 111,
   "id": "8101dc87",
   "metadata": {},
   "outputs": [],
   "source": [
    "import matplotlib.pyplot as plt\n",
    "import numpy as np\n",
    "import tensorflow as tf\n",
    "\n",
    "from matplotlib import colors\n",
    "from typing import Dict, List, Optional, Text, Tuple"
   ]
  },
  {
   "cell_type": "code",
   "execution_count": 112,
   "id": "ecc832f3",
   "metadata": {},
   "outputs": [],
   "source": [
    "INPUT_FEATURES = ['elevation', 'th', 'vs',  'tmmn', 'tmmx', 'sph',\n",
    "                  'pr', 'pdsi', 'NDVI', 'population', 'erc', 'PrevFireMask']\n",
    "OUTPUT_FEATURES = ['FireMask']\n",
    "#file_pattern = '/replace/with/you/own/path/to/tfrecords'\n",
    "file_pattern = '/Users/kypark/work/task/Disaster_Detection/Wildfire_Spread/dataset/next_day_wildfire_spread_train*'"
   ]
  },
  {
   "cell_type": "code",
   "execution_count": 113,
   "id": "1f672e0b",
   "metadata": {},
   "outputs": [],
   "source": [
    "def _get_features_desc(\n",
    "    sample_size: int,\n",
    "    features: List[Text],\n",
    ") -> Dict[Text, tf.io.FixedLenFeature]:\n",
    "  \"\"\"Creates a features dictionary for TensorFlow IO.\n",
    "  Args:\n",
    "    sample_size: Size of the input tiles (square).\n",
    "    features: List of feature names.\n",
    "  Returns:\n",
    "    A features dictionary for TensorFlow IO.\n",
    "  \"\"\"\n",
    "  sample_shape = [sample_size, sample_size]\n",
    "  features = set(features)\n",
    "  columns = [\n",
    "      tf.io.FixedLenFeature(shape=sample_shape, dtype=tf.float32)\n",
    "      for _ in features\n",
    "  ]\n",
    "  return dict(zip(features, columns))\n",
    "\n",
    "\n",
    "def _parse_function(example_proto: tf.train.Example, data_size: int):\n",
    "  features_desc = _get_features_desc(data_size, INPUT_FEATURES + OUTPUT_FEATURES)\n",
    "  features_dict = tf.io.parse_single_example(example_proto, features_desc)  # {feat_name: feat_ndarray, ...}\n",
    "  return features_dict"
   ]
  },
  {
   "cell_type": "code",
   "execution_count": 114,
   "id": "0c9a4cc7",
   "metadata": {},
   "outputs": [
    {
     "name": "stdout",
     "output_type": "stream",
     "text": [
      "type of dataset: <class 'tensorflow.python.data.ops.dataset_ops.ShuffleDataset'>\n"
     ]
    }
   ],
   "source": [
    "dataset1 = tf.data.Dataset.list_files(file_pattern)\n",
    "print('type of dataset: {}'.format(type(dataset1)))"
   ]
  },
  {
   "cell_type": "code",
   "execution_count": 115,
   "id": "bf170346",
   "metadata": {},
   "outputs": [
    {
     "name": "stdout",
     "output_type": "stream",
     "text": [
      "type of dataset: <class 'tensorflow.python.data.ops.dataset_ops.ParallelInterleaveDataset'>\n"
     ]
    }
   ],
   "source": [
    "dataset2 = dataset1.interleave(\\\n",
    "  lambda x: tf.data.TFRecordDataset(x, compression_type=None),\\\n",
    "  num_parallel_calls=tf.data.experimental.AUTOTUNE)\n",
    "print('type of dataset: {}'.format(type(dataset2)))"
   ]
  },
  {
   "cell_type": "code",
   "execution_count": 116,
   "id": "3f3f884f",
   "metadata": {},
   "outputs": [
    {
     "name": "stdout",
     "output_type": "stream",
     "text": [
      "type of dataset: <class 'tensorflow.python.data.ops.dataset_ops.PrefetchDataset'>\n"
     ]
    }
   ],
   "source": [
    "dataset3 = dataset2.prefetch(buffer_size=tf.data.experimental.AUTOTUNE)\n",
    "print('type of dataset: {}'.format(type(dataset3)))"
   ]
  },
  {
   "cell_type": "code",
   "execution_count": 117,
   "id": "3ec9a8ed",
   "metadata": {},
   "outputs": [
    {
     "name": "stdout",
     "output_type": "stream",
     "text": [
      "type of dataset: <class 'tensorflow.python.data.ops.dataset_ops.ParallelMapDataset'>\n"
     ]
    }
   ],
   "source": [
    "dataset4 = dataset3.map(\\\n",
    "  lambda x: _parse_function(x, 64),\\\n",
    "  num_parallel_calls=tf.data.experimental.AUTOTUNE)\n",
    "print('type of dataset: {}'.format(type(dataset4)))"
   ]
  },
  {
   "cell_type": "code",
   "execution_count": 118,
   "id": "6a36ea75",
   "metadata": {
    "scrolled": false
   },
   "outputs": [
    {
     "name": "stdout",
     "output_type": "stream",
     "text": [
      "* total # of training cases: 14979\n",
      "* type of each train case: <class 'dict'>\n",
      "* feature names in sorted order: ['FireMask', 'NDVI', 'PrevFireMask', 'elevation', 'erc', 'pdsi', 'population', 'pr', 'sph', 'th', 'tmmn', 'tmmx', 'vs']\n",
      "* feature config:\n",
      "------------------------------------------------------------\n",
      "        feature name       feature shape               dtype\n",
      "------------------------------------------------------------\n",
      "            FireMask            (64, 64)             float32\n",
      "                NDVI            (64, 64)             float32\n",
      "        PrevFireMask            (64, 64)             float32\n",
      "           elevation            (64, 64)             float32\n",
      "                 erc            (64, 64)             float32\n",
      "                pdsi            (64, 64)             float32\n",
      "          population            (64, 64)             float32\n",
      "                  pr            (64, 64)             float32\n",
      "                 sph            (64, 64)             float32\n",
      "                  th            (64, 64)             float32\n",
      "                tmmn            (64, 64)             float32\n",
      "                tmmx            (64, 64)             float32\n",
      "                  vs            (64, 64)             float32\n",
      "------------------------------------------------------------\n"
     ]
    }
   ],
   "source": [
    "train_cases = list(dataset4.as_numpy_iterator())\n",
    "num_train_cases = len(train_cases)\n",
    "feat_names = sorted(train_cases[0].keys())\n",
    "print('* total # of training cases: {}'.format(num_train_cases))\n",
    "print('* type of each train case: {}'.format(type(train_cases[0])))\n",
    "print('* feature names in sorted order: {}'.format(feat_names))\n",
    "print('* feature config:')\n",
    "print('------------------------------------------------------------')\n",
    "print('{:>20s}{:>20s}{:>20s}'.format('feature name', 'feature shape', 'dtype'))\n",
    "print('------------------------------------------------------------')\n",
    "for k, v in train_cases[0].items():\n",
    "    print('{:>20s}{:>20s}{:>20s}'.format(k, str(v.shape), str(v.dtype)))\n",
    "print('------------------------------------------------------------')"
   ]
  },
  {
   "cell_type": "code",
   "execution_count": 119,
   "id": "b2a33085",
   "metadata": {},
   "outputs": [],
   "source": [
    "# Data statistics (from the original paper's repo)\n",
    "# For each variable, the statistics are ordered in the form:\n",
    "# (min_clip, max_clip, mean, std)\n",
    "DATA_STATS = {\n",
    "    # 0.1 percentile, 99.9 percentile\n",
    "    'elevation': (0.0, 3141.0, 657.3003, 649.0147),\n",
    "    # Pressure\n",
    "    # 0.1 percentile, 99.9 percentile\n",
    "    'pdsi': (-6.1298, 7.8760, -0.0053, 2.6823),\n",
    "    'NDVI': (-9821.0, 9996.0, 5157.625, 2466.6677),\n",
    "    # Precipitation in mm.\n",
    "    # Negative values make no sense, so min is set to 0.\n",
    "    # 0., 99.9 percentile\n",
    "    'pr': (0.0, 44.5304, 1.7398051, 4.4828),\n",
    "    # Specific humidity ranges from 0 to 100%.\n",
    "    'sph': (0., 1., 0.0071658953, 0.0042835088),\n",
    "    # Wind direction in degrees clockwise from north.\n",
    "    # Thus min set to 0 and max set to 360.\n",
    "    'th': (0., 360.0, 190.3298, 72.5985),\n",
    "    # Min/max temperature in Kelvin.\n",
    "    # -20 degree C, 99.9 percentile\n",
    "    'tmmn': (253.15, 298.9489, 281.08768, 8.9824),\n",
    "    # -20 degree C, 99.9 percentile\n",
    "    'tmmx': (253.15, 315.0923, 295.17383, 9.8155),\n",
    "    # Wind speed.\n",
    "    # Negative values do not make sense, given there is a wind direction.\n",
    "    # 0., 99.9 percentile\n",
    "    'vs': (0.0, 10.0243, 3.8501, 1.4110),\n",
    "    # NFDRS fire danger index energy release component expressed in BTU's per\n",
    "    # square foot.\n",
    "    # Negative values do not make sense. Thus min set to zero.\n",
    "    # 0., 99.9 percentile\n",
    "    'erc': (0.0, 106.2489, 37.3263, 20.8460),\n",
    "    # Population\n",
    "    # min, 99.9 percentile\n",
    "    'population': (0., 2534.0630, 25.5314, 154.7233),\n",
    "    # We don't want to normalize the FireMasks.\n",
    "    'PrevFireMask': (-1., 1., 0., 1.),\n",
    "    'FireMask': (-1., 1., 0., 1.)\n",
    "}"
   ]
  },
  {
   "cell_type": "code",
   "execution_count": 120,
   "id": "2cfc4ce8",
   "metadata": {
    "scrolled": false
   },
   "outputs": [
    {
     "name": "stdout",
     "output_type": "stream",
     "text": [
      "[NDVI] len: 61353984 =================\n",
      "\tmin: -9567.0, max: 9966.0, mean: 5350.6806640625, std: 2185.218994140625\n",
      "[elevation] len: 61353984 =================\n",
      "\tmin: -45.0, max: 4193.0, mean: 896.5714721679688, std: 842.6110229492188\n",
      "[erc] len: 61353984 =================\n",
      "\tmin: -1196.088623046875, max: 2470.88232421875, mean: 53.469173431396484, std: 25.09796905517578\n",
      "[pdsi] len: 61353984 =================\n",
      "\tmin: -125.71087646484375, max: 52.26896667480469, mean: -0.7728708982467651, std: 2.4407196044921875\n",
      "[population] len: 61353984 =================\n",
      "\tmin: 0.0, max: 27103.60546875, mean: 30.460250854492188, std: 214.20028686523438\n",
      "[pr] len: 61353984 =================\n",
      "\tmin: -167.44830322265625, max: 56.21477127075195, mean: 0.323428750038147, std: 1.5336633920669556\n",
      "[sph] len: 61353984 =================\n",
      "\tmin: -0.1289878934621811, max: 0.08553028106689453, mean: 0.006526323966681957, std: 0.0037355388049036264\n",
      "[th] len: 61353984 =================\n",
      "\tmin: -505870.0625, max: 37735.62890625, mean: 146.64630126953125, std: 3435.08203125\n",
      "[tmmn] len: 61353984 =================\n",
      "\tmin: -444.6930236816406, max: 716.6276245117188, mean: 281.8516845703125, std: 18.497154235839844\n",
      "[tmmx] len: 61353984 =================\n",
      "\tmin: 0.0, max: 1229.8487548828125, mean: 297.7162780761719, std: 19.45806884765625\n",
      "[vs] len: 61353984 =================\n",
      "\tmin: -82.6530990600586, max: 103.22010040283203, mean: 3.6278488636016846, std: 1.3092153072357178\n"
     ]
    }
   ],
   "source": [
    "log_interval = 100\n",
    "numeric_feat_names = [feat_name for feat_name in feat_names\n",
    "                      if feat_name not in ['PrevFireMask', 'FireMask']]\n",
    "feat_val = {feat_name: None for feat_name in numeric_feat_names}\n",
    "feat_min = {feat_name: 0.0 for feat_name in numeric_feat_names}\n",
    "feat_max = {feat_name: 0.0 for feat_name in numeric_feat_names}\n",
    "feat_mean = {feat_name: 0.0 for feat_name in numeric_feat_names}\n",
    "feat_std = {feat_name: 0.0 for feat_name in numeric_feat_names}\n",
    "for feat_name in numeric_feat_names:\n",
    "    feat_val[feat_name] = []\n",
    "    for idx, train_case in enumerate(train_cases):\n",
    "        feat_val[feat_name].extend(train_case[feat_name].reshape(-1))\n",
    "#         if (idx + 1) % log_interval == 0:\n",
    "#             print('\\tcase idx: {}'.format(idx + 1))\n",
    "#     print('\\tcase idx: {}'.format(idx + 1))\n",
    "    print('[{}] len: {} ================='.format(feat_name, len(feat_val[feat_name])))\n",
    "    feat_min[feat_name] = np.min(feat_val[feat_name])\n",
    "    feat_max[feat_name] = np.max(feat_val[feat_name])\n",
    "    feat_mean[feat_name] = np.mean(feat_val[feat_name])\n",
    "    feat_std[feat_name] = np.std(feat_val[feat_name])\n",
    "    print('\\tmin: {}, max: {}, mean: {}, std: {}'.format(\n",
    "        feat_min[feat_name], feat_max[feat_name],\n",
    "        feat_mean[feat_name], feat_std[feat_name]))\n",
    "#     break"
   ]
  },
  {
   "cell_type": "code",
   "execution_count": 121,
   "id": "813a1e2a",
   "metadata": {},
   "outputs": [],
   "source": [
    "# TODO try with scipy.stats.norm.ppf\n",
    "\n",
    "# {feat_name: [min_clip, max_clip], ...}\n",
    "my_clips = {feat_name: [0.0, 0.0] for feat_name in numeric_feat_names}\n",
    "\n",
    "# recalculate min_clip/max_clip according to the original authors' logic\n",
    "# as the dataset seems to be different from that of the authors' paper\n",
    "\n",
    "# elevation: 0.1 percentile, 99.9 percentile\n",
    "my_clips['elevation'][0] = np.percentile(feat_val['elevation'], 0.001)\n",
    "my_clips['elevation'][1] = np.percentile(feat_val['elevation'], 0.999)\n",
    "# pdsi: 0.1 percentile, 99.9 percentile\n",
    "my_clips['pdsi'][0] = np.percentile(feat_val['pdsi'], 0.001)\n",
    "my_clips['pdsi'][1] = np.percentile(feat_val['pdsi'], 0.999)\n",
    "# NDVI: NA(0.1 percentile, 99.9 percentile by default)\n",
    "my_clips['NDVI'][0] = np.percentile(feat_val['NDVI'], 0.001)\n",
    "my_clips['NDVI'][1] = np.percentile(feat_val['NDVI'], 0.999)\n",
    "# pr: Precipitation in mm. Negative values make no sense, so min is set to 0. 0., 99.9 percentile\n",
    "my_clips['pr'][0] = 0.0\n",
    "my_clips['pr'][1] = np.percentile(feat_val['pr'], 0.999)\n",
    "# sph: Specific humidity ranges from 0 to 100%.\n",
    "my_clips['sph'][0] = 0.0\n",
    "my_clips['sph'][1] = 1.0\n",
    "# th: Wind direction in degrees clockwise from north. Thus min set to 0 and max set to 360.\n",
    "my_clips['th'][0] = 0.0\n",
    "my_clips['th'][1] = 360.0\n",
    "# tmmn: min temperature in Kelvin. -20 degree C, 99.9 percentile\n",
    "my_clips['tmmn'][0] = 253.15\n",
    "my_clips['tmmn'][1] = np.percentile(feat_val['tmmn'], 0.999)\n",
    "# tmmx: max temperature in Kelvin. -20 degree C, 99.9 percentile\n",
    "my_clips['tmmx'][0] = 253.15\n",
    "my_clips['tmmx'][1] = np.percentile(feat_val['tmmx'], 0.999)\n",
    "# vs: Wind speed. Negative values do not make sense, given there is a wind direction. 0., 99.9 percentile\n",
    "my_clips['vs'][0] = 0.0\n",
    "my_clips['vs'][1] = np.percentile(feat_val['vs'], 0.999)\n",
    "# erc: NFDRS fire danger index energy release component expressed in BTU's per square foot.\n",
    "#      Negative values do not make sense. Thus min set to zero. 0., 99.9 percentile\n",
    "my_clips['erc'][0] = 0.0\n",
    "my_clips['erc'][1] = np.percentile(feat_val['erc'], 0.999)\n",
    "# population: Population. 0., 99.9 percentile\n",
    "my_clips['population'][0] = 0.0\n",
    "my_clips['population'][1] = np.percentile(feat_val['population'], 0.999)"
   ]
  },
  {
   "cell_type": "code",
   "execution_count": 125,
   "id": "d6a9c1eb",
   "metadata": {},
   "outputs": [
    {
     "name": "stdout",
     "output_type": "stream",
     "text": [
      "[NDVI] min_clip: -7969.0, max_clip: 0.0\n",
      "[elevation] min_clip: -14.0, max_clip: 2.0\n",
      "[erc] min_clip: 0.0, max_clip: 11.26390417131424\n",
      "[pdsi] min_clip: -7.949708461761475, max_clip: -5.144203186035156\n",
      "[population] min_clip: 0.0, max_clip: 0.0\n",
      "[pr] min_clip: 0.0, max_clip: -0.022553352639079094\n",
      "[sph] min_clip: 0.0, max_clip: 1.0\n",
      "[th] min_clip: 0.0, max_clip: 360.0\n",
      "[tmmn] min_clip: 253.15, max_clip: 264.7126858572388\n",
      "[tmmx] min_clip: 253.15, max_clip: 277.5990383963013\n",
      "[vs] min_clip: 0.0, max_clip: 1.3849763024055959\n",
      "non_zero_pop: 39773098\n"
     ]
    }
   ],
   "source": [
    "for feat_name in my_clips:\n",
    "    print('[{}] min_clip: {}, max_clip: {}'.format(feat_name, my_clips[feat_name][0], my_clips[feat_name][1]))\n",
    "non_zero_pop = 0\n",
    "for pop in feat_val['population']:\n",
    "    if pop > 0:\n",
    "        non_zero_pop += 1\n",
    "print('non_zero_pop: {}'.format(non_zero_pop))"
   ]
  },
  {
   "cell_type": "code",
   "execution_count": 122,
   "id": "962b157c",
   "metadata": {
    "scrolled": false
   },
   "outputs": [
    {
     "name": "stdout",
     "output_type": "stream",
     "text": [
      "Feature Name   Stat             Original                Mine       Original/Mine\n",
      "--------------------------------------------------------------------------------\n",
      "NDVI           mean            5157.6250            -17.1077           -301.4802\n",
      "               std             2466.6677            229.1324             10.7653\n",
      "elevation      mean             657.3003              1.9806            331.8696\n",
      "               std              649.0147              0.2086           3111.9711\n",
      "erc            mean              37.3263             11.1931              3.3348\n",
      "               std               20.8460              0.8242             25.2923\n",
      "pdsi           mean              -0.0053             -5.1485              0.0010\n",
      "               std                2.6823              0.0576             46.5946\n"
     ]
    },
    {
     "name": "stderr",
     "output_type": "stream",
     "text": [
      "/var/folders/2r/3ppd73zj1h90q3k5yy1gxkf40000gn/T/ipykernel_43406/34622936.py:15: RuntimeWarning: divide by zero encountered in double_scalars\n",
      "  mean_stds[feat_name][0], DATA_STATS[feat_name][2]/mean_stds[feat_name][0]))\n",
      "/var/folders/2r/3ppd73zj1h90q3k5yy1gxkf40000gn/T/ipykernel_43406/34622936.py:17: RuntimeWarning: divide by zero encountered in double_scalars\n",
      "  mean_stds[feat_name][1], DATA_STATS[feat_name][3]/mean_stds[feat_name][1]))\n"
     ]
    },
    {
     "name": "stdout",
     "output_type": "stream",
     "text": [
      "population     mean              25.5314              0.0000                 inf\n",
      "               std              154.7233              0.0000                 inf\n",
      "pr             mean               1.7398             -0.0226            -77.1418\n",
      "               std                4.4828              0.0000                 inf\n",
      "sph            mean               0.0072              0.0065              1.0980\n",
      "               std                0.0043              0.0037              1.1467\n",
      "th             mean             190.3298            199.4255              0.9544\n",
      "               std               72.5985             71.5846              1.0142\n",
      "tmmn           mean             281.0877            264.6543              1.0621\n",
      "               std                8.9824              0.7447             12.0610\n",
      "tmmx           mean             295.1738            277.4927              1.0637\n",
      "               std                9.8155              1.4984              6.5508\n",
      "vs             mean               3.8501              1.3788              2.7924\n",
      "               std                1.4110              0.0855             16.4943\n"
     ]
    }
   ],
   "source": [
    "# {feat_name: [mean, std], ...}\n",
    "mean_stds = {feat_name: [0.0, 0.0] for feat_name in numeric_feat_names}\n",
    "head = '{:<15s}{:<5s}{:>20s}{:>20s}{:>20s}'.format('Feature Name', 'Stat', 'Original',\n",
    "                                                   'Mine', 'Original/Mine')\n",
    "print(head)\n",
    "print('-' * len(head))\n",
    "for feat_name in mean_stds:\n",
    "    a = [val if val >= my_clips[feat_name][0] else my_clips[feat_name][0]\n",
    "         for val in feat_val[feat_name]]\n",
    "    a = [val if val <= my_clips[feat_name][1] else my_clips[feat_name][1]\n",
    "         for val in a]\n",
    "    mean_stds[feat_name][0] = np.mean(a)\n",
    "    mean_stds[feat_name][1] = np.std(a)\n",
    "    print('{:<15s}mean {:>20.4f}{:>20.4f}{:>20.4f}'.format(feat_name, DATA_STATS[feat_name][2],\n",
    "        mean_stds[feat_name][0], DATA_STATS[feat_name][2]/mean_stds[feat_name][0]))\n",
    "    print('{:<15s}std  {:>20.4f}{:>20.4f}{:>20.4f}'.format('', DATA_STATS[feat_name][3],\n",
    "        mean_stds[feat_name][1], DATA_STATS[feat_name][3]/mean_stds[feat_name][1]))"
   ]
  }
 ],
 "metadata": {
  "kernelspec": {
   "display_name": "Python 3 (ipykernel)",
   "language": "python",
   "name": "python3"
  },
  "language_info": {
   "codemirror_mode": {
    "name": "ipython",
    "version": 3
   },
   "file_extension": ".py",
   "mimetype": "text/x-python",
   "name": "python",
   "nbconvert_exporter": "python",
   "pygments_lexer": "ipython3",
   "version": "3.10.0"
  }
 },
 "nbformat": 4,
 "nbformat_minor": 5
}
