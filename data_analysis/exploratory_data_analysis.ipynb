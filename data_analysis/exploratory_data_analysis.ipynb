{
 "cells": [
  {
   "cell_type": "code",
   "execution_count": 33,
   "id": "8101dc87",
   "metadata": {},
   "outputs": [],
   "source": [
    "from matplotlib import colors\n",
    "from parse_dataset import *\n",
    "from typing import Dict, List, Optional, Text, Tuple\n",
    "import matplotlib.pyplot as plt\n",
    "import numpy as np\n",
    "import tensorflow as tf\n",
    "import yaml"
   ]
  },
  {
   "cell_type": "code",
   "execution_count": 34,
   "id": "393213bd",
   "metadata": {},
   "outputs": [],
   "source": [
    "# '../config.yml', to be ignored via .gitignore, is assumed to exist in advance\n",
    "with open('../config.yml', 'r') as inf:\n",
    "    cfg_dict = yaml.safe_load(inf)\n",
    "\n",
    "tf_dataset = get_dataset(cfg_dict['file_pattern'], 64)"
   ]
  },
  {
   "cell_type": "code",
   "execution_count": 35,
   "id": "6a36ea75",
   "metadata": {
    "scrolled": false
   },
   "outputs": [
    {
     "name": "stdout",
     "output_type": "stream",
     "text": [
      "* total # of training cases: 14979\n",
      "* type of each train case: <class 'dict'>\n",
      "* feature names in sorted order: ['FireMask', 'NDVI', 'PrevFireMask', 'elevation', 'erc', 'pdsi', 'population', 'pr', 'sph', 'th', 'tmmn', 'tmmx', 'vs']\n",
      "* feature config:\n",
      "------------------------------------------------------------\n",
      "        feature name       feature shape               dtype\n",
      "------------------------------------------------------------\n",
      "            FireMask            (64, 64)             float32\n",
      "                NDVI            (64, 64)             float32\n",
      "        PrevFireMask            (64, 64)             float32\n",
      "           elevation            (64, 64)             float32\n",
      "                 erc            (64, 64)             float32\n",
      "                pdsi            (64, 64)             float32\n",
      "          population            (64, 64)             float32\n",
      "                  pr            (64, 64)             float32\n",
      "                 sph            (64, 64)             float32\n",
      "                  th            (64, 64)             float32\n",
      "                tmmn            (64, 64)             float32\n",
      "                tmmx            (64, 64)             float32\n",
      "                  vs            (64, 64)             float32\n",
      "------------------------------------------------------------\n"
     ]
    }
   ],
   "source": [
    "train_cases = list(tf_dataset.as_numpy_iterator())\n",
    "num_train_cases = len(train_cases)\n",
    "feat_names = sorted(train_cases[0].keys())\n",
    "print('* total # of training cases: {}'.format(num_train_cases))\n",
    "print('* type of each train case: {}'.format(type(train_cases[0])))\n",
    "print('* feature names in sorted order: {}'.format(feat_names))\n",
    "print('* feature config:')\n",
    "print('------------------------------------------------------------')\n",
    "print('{:>20s}{:>20s}{:>20s}'.format('feature name', 'feature shape', 'dtype'))\n",
    "print('------------------------------------------------------------')\n",
    "for k, v in train_cases[0].items():\n",
    "    print('{:>20s}{:>20s}{:>20s}'.format(k, str(v.shape), str(v.dtype)))\n",
    "print('------------------------------------------------------------')"
   ]
  },
  {
   "cell_type": "code",
   "execution_count": 37,
   "id": "b86c0175",
   "metadata": {},
   "outputs": [
    {
     "name": "stdout",
     "output_type": "stream",
     "text": [
      "287.880615234375\n",
      "-0.7728697\n",
      "842.61084\n"
     ]
    }
   ],
   "source": [
    "numeric_feat_names = [feat_name for feat_name in feat_names\n",
    "                      if feat_name not in ['PrevFireMask', 'FireMask']]\n",
    "feat_val = {}\n",
    "feat_summary = {}\n",
    "\n",
    "for feat_name in numeric_feat_names:\n",
    "    feat_val[feat_name] = []\n",
    "    for train_case in train_cases:\n",
    "        feat_val[feat_name].extend(train_case[feat_name].reshape(-1))\n",
    "    feat_summary[feat_name] = {}\n",
    "    feat_summary[feat_name]['size'] = len(feat_val[feat_name])\n",
    "    feat_summary[feat_name]['min'] = np.min(feat_val[feat_name])\n",
    "    feat_summary[feat_name]['1stQtr'] = np.percentile(feat_val[feat_name], 25)\n",
    "    feat_summary[feat_name]['mean'] = np.mean(feat_val[feat_name])\n",
    "    feat_summary[feat_name]['3rdQtr'] = np.percentile(feat_val[feat_name], 75)\n",
    "    feat_summary[feat_name]['max'] = np.max(feat_val[feat_name])\n",
    "    feat_summary[feat_name]['std'] = np.std(feat_val[feat_name])\n",
    "\n",
    "print(feat_summary['tmmn']['3rdQtr'])\n",
    "print(feat_summary['pdsi']['mean'])\n",
    "print(feat_summary['elevation']['std'])"
   ]
  }
 ],
 "metadata": {
  "kernelspec": {
   "display_name": "Python 3 (ipykernel)",
   "language": "python",
   "name": "python3"
  },
  "language_info": {
   "codemirror_mode": {
    "name": "ipython",
    "version": 3
   },
   "file_extension": ".py",
   "mimetype": "text/x-python",
   "name": "python",
   "nbconvert_exporter": "python",
   "pygments_lexer": "ipython3",
   "version": "3.10.0"
  }
 },
 "nbformat": 4,
 "nbformat_minor": 5
}
